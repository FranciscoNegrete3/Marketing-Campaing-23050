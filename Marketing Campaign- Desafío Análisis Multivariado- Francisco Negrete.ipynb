{
 "cells": [
  {
   "cell_type": "markdown",
   "id": "bfd76435",
   "metadata": {},
   "source": [
    "# Desafío Análisis Multivariado- Negrete Francisco"
   ]
  },
  {
   "cell_type": "markdown",
   "id": "a85f915c",
   "metadata": {},
   "source": [
    "## Importar librerías "
   ]
  },
  {
   "cell_type": "code",
   "execution_count": 1,
   "id": "616fffcb",
   "metadata": {},
   "outputs": [],
   "source": [
    "import numpy as np\n",
    "import matplotlib.pyplot as plt\n",
    "import pandas as pd\n",
    "import seaborn as sns; sns.set_theme()\n",
    "from seaborn import boxplot\n",
    "from seaborn import distplot\n",
    "from seaborn import lmplot\n",
    "from scipy.stats import ttest_ind\n",
    "from scipy.stats import chi2_contingency"
   ]
  },
  {
   "cell_type": "code",
   "execution_count": 4,
   "id": "4f6b4b8c",
   "metadata": {},
   "outputs": [],
   "source": [
    "df =pd.read_csv('marketing_campaign.csv', sep=\";\", decimal=\",\")"
   ]
  },
  {
   "cell_type": "code",
   "execution_count": 149,
   "id": "b7511817",
   "metadata": {},
   "outputs": [
    {
     "data": {
      "text/html": [
       "<div>\n",
       "<style scoped>\n",
       "    .dataframe tbody tr th:only-of-type {\n",
       "        vertical-align: middle;\n",
       "    }\n",
       "\n",
       "    .dataframe tbody tr th {\n",
       "        vertical-align: top;\n",
       "    }\n",
       "\n",
       "    .dataframe thead th {\n",
       "        text-align: right;\n",
       "    }\n",
       "</style>\n",
       "<table border=\"1\" class=\"dataframe\">\n",
       "  <thead>\n",
       "    <tr style=\"text-align: right;\">\n",
       "      <th></th>\n",
       "      <th>ID</th>\n",
       "      <th>Year_Birth</th>\n",
       "      <th>Education</th>\n",
       "      <th>Marital_Status</th>\n",
       "      <th>Income</th>\n",
       "      <th>Kidhome</th>\n",
       "      <th>Teenhome</th>\n",
       "      <th>Dt_Customer</th>\n",
       "      <th>Recency</th>\n",
       "      <th>MntWines</th>\n",
       "      <th>...</th>\n",
       "      <th>NumWebVisitsMonth</th>\n",
       "      <th>AcceptedCmp3</th>\n",
       "      <th>AcceptedCmp4</th>\n",
       "      <th>AcceptedCmp5</th>\n",
       "      <th>AcceptedCmp1</th>\n",
       "      <th>AcceptedCmp2</th>\n",
       "      <th>Complain</th>\n",
       "      <th>Z_CostContact</th>\n",
       "      <th>Z_Revenue</th>\n",
       "      <th>Response</th>\n",
       "    </tr>\n",
       "  </thead>\n",
       "  <tbody>\n",
       "    <tr>\n",
       "      <th>0</th>\n",
       "      <td>5524</td>\n",
       "      <td>1957</td>\n",
       "      <td>Graduation</td>\n",
       "      <td>Single</td>\n",
       "      <td>58138.0</td>\n",
       "      <td>0</td>\n",
       "      <td>0</td>\n",
       "      <td>2012-09-04</td>\n",
       "      <td>58</td>\n",
       "      <td>635</td>\n",
       "      <td>...</td>\n",
       "      <td>7</td>\n",
       "      <td>0</td>\n",
       "      <td>0</td>\n",
       "      <td>0</td>\n",
       "      <td>0</td>\n",
       "      <td>0</td>\n",
       "      <td>0</td>\n",
       "      <td>3</td>\n",
       "      <td>11</td>\n",
       "      <td>1</td>\n",
       "    </tr>\n",
       "    <tr>\n",
       "      <th>1</th>\n",
       "      <td>2174</td>\n",
       "      <td>1954</td>\n",
       "      <td>Graduation</td>\n",
       "      <td>Single</td>\n",
       "      <td>46344.0</td>\n",
       "      <td>1</td>\n",
       "      <td>1</td>\n",
       "      <td>2014-03-08</td>\n",
       "      <td>38</td>\n",
       "      <td>11</td>\n",
       "      <td>...</td>\n",
       "      <td>5</td>\n",
       "      <td>0</td>\n",
       "      <td>0</td>\n",
       "      <td>0</td>\n",
       "      <td>0</td>\n",
       "      <td>0</td>\n",
       "      <td>0</td>\n",
       "      <td>3</td>\n",
       "      <td>11</td>\n",
       "      <td>0</td>\n",
       "    </tr>\n",
       "    <tr>\n",
       "      <th>2</th>\n",
       "      <td>4141</td>\n",
       "      <td>1965</td>\n",
       "      <td>Graduation</td>\n",
       "      <td>Together</td>\n",
       "      <td>71613.0</td>\n",
       "      <td>0</td>\n",
       "      <td>0</td>\n",
       "      <td>2013-08-21</td>\n",
       "      <td>26</td>\n",
       "      <td>426</td>\n",
       "      <td>...</td>\n",
       "      <td>4</td>\n",
       "      <td>0</td>\n",
       "      <td>0</td>\n",
       "      <td>0</td>\n",
       "      <td>0</td>\n",
       "      <td>0</td>\n",
       "      <td>0</td>\n",
       "      <td>3</td>\n",
       "      <td>11</td>\n",
       "      <td>0</td>\n",
       "    </tr>\n",
       "    <tr>\n",
       "      <th>3</th>\n",
       "      <td>6182</td>\n",
       "      <td>1984</td>\n",
       "      <td>Graduation</td>\n",
       "      <td>Together</td>\n",
       "      <td>26646.0</td>\n",
       "      <td>1</td>\n",
       "      <td>0</td>\n",
       "      <td>2014-02-10</td>\n",
       "      <td>26</td>\n",
       "      <td>11</td>\n",
       "      <td>...</td>\n",
       "      <td>6</td>\n",
       "      <td>0</td>\n",
       "      <td>0</td>\n",
       "      <td>0</td>\n",
       "      <td>0</td>\n",
       "      <td>0</td>\n",
       "      <td>0</td>\n",
       "      <td>3</td>\n",
       "      <td>11</td>\n",
       "      <td>0</td>\n",
       "    </tr>\n",
       "    <tr>\n",
       "      <th>4</th>\n",
       "      <td>5324</td>\n",
       "      <td>1981</td>\n",
       "      <td>PhD</td>\n",
       "      <td>Married</td>\n",
       "      <td>58293.0</td>\n",
       "      <td>1</td>\n",
       "      <td>0</td>\n",
       "      <td>2014-01-19</td>\n",
       "      <td>94</td>\n",
       "      <td>173</td>\n",
       "      <td>...</td>\n",
       "      <td>5</td>\n",
       "      <td>0</td>\n",
       "      <td>0</td>\n",
       "      <td>0</td>\n",
       "      <td>0</td>\n",
       "      <td>0</td>\n",
       "      <td>0</td>\n",
       "      <td>3</td>\n",
       "      <td>11</td>\n",
       "      <td>0</td>\n",
       "    </tr>\n",
       "    <tr>\n",
       "      <th>...</th>\n",
       "      <td>...</td>\n",
       "      <td>...</td>\n",
       "      <td>...</td>\n",
       "      <td>...</td>\n",
       "      <td>...</td>\n",
       "      <td>...</td>\n",
       "      <td>...</td>\n",
       "      <td>...</td>\n",
       "      <td>...</td>\n",
       "      <td>...</td>\n",
       "      <td>...</td>\n",
       "      <td>...</td>\n",
       "      <td>...</td>\n",
       "      <td>...</td>\n",
       "      <td>...</td>\n",
       "      <td>...</td>\n",
       "      <td>...</td>\n",
       "      <td>...</td>\n",
       "      <td>...</td>\n",
       "      <td>...</td>\n",
       "      <td>...</td>\n",
       "    </tr>\n",
       "    <tr>\n",
       "      <th>2235</th>\n",
       "      <td>10870</td>\n",
       "      <td>1967</td>\n",
       "      <td>Graduation</td>\n",
       "      <td>Married</td>\n",
       "      <td>61223.0</td>\n",
       "      <td>0</td>\n",
       "      <td>1</td>\n",
       "      <td>2013-06-13</td>\n",
       "      <td>46</td>\n",
       "      <td>709</td>\n",
       "      <td>...</td>\n",
       "      <td>5</td>\n",
       "      <td>0</td>\n",
       "      <td>0</td>\n",
       "      <td>0</td>\n",
       "      <td>0</td>\n",
       "      <td>0</td>\n",
       "      <td>0</td>\n",
       "      <td>3</td>\n",
       "      <td>11</td>\n",
       "      <td>0</td>\n",
       "    </tr>\n",
       "    <tr>\n",
       "      <th>2236</th>\n",
       "      <td>4001</td>\n",
       "      <td>1946</td>\n",
       "      <td>PhD</td>\n",
       "      <td>Together</td>\n",
       "      <td>64014.0</td>\n",
       "      <td>2</td>\n",
       "      <td>1</td>\n",
       "      <td>2014-06-10</td>\n",
       "      <td>56</td>\n",
       "      <td>406</td>\n",
       "      <td>...</td>\n",
       "      <td>7</td>\n",
       "      <td>0</td>\n",
       "      <td>0</td>\n",
       "      <td>0</td>\n",
       "      <td>1</td>\n",
       "      <td>0</td>\n",
       "      <td>0</td>\n",
       "      <td>3</td>\n",
       "      <td>11</td>\n",
       "      <td>0</td>\n",
       "    </tr>\n",
       "    <tr>\n",
       "      <th>2237</th>\n",
       "      <td>7270</td>\n",
       "      <td>1981</td>\n",
       "      <td>Graduation</td>\n",
       "      <td>Divorced</td>\n",
       "      <td>56981.0</td>\n",
       "      <td>0</td>\n",
       "      <td>0</td>\n",
       "      <td>2014-01-25</td>\n",
       "      <td>91</td>\n",
       "      <td>908</td>\n",
       "      <td>...</td>\n",
       "      <td>6</td>\n",
       "      <td>0</td>\n",
       "      <td>1</td>\n",
       "      <td>0</td>\n",
       "      <td>0</td>\n",
       "      <td>0</td>\n",
       "      <td>0</td>\n",
       "      <td>3</td>\n",
       "      <td>11</td>\n",
       "      <td>0</td>\n",
       "    </tr>\n",
       "    <tr>\n",
       "      <th>2238</th>\n",
       "      <td>8235</td>\n",
       "      <td>1956</td>\n",
       "      <td>Master</td>\n",
       "      <td>Together</td>\n",
       "      <td>69245.0</td>\n",
       "      <td>0</td>\n",
       "      <td>1</td>\n",
       "      <td>2014-01-24</td>\n",
       "      <td>8</td>\n",
       "      <td>428</td>\n",
       "      <td>...</td>\n",
       "      <td>3</td>\n",
       "      <td>0</td>\n",
       "      <td>0</td>\n",
       "      <td>0</td>\n",
       "      <td>0</td>\n",
       "      <td>0</td>\n",
       "      <td>0</td>\n",
       "      <td>3</td>\n",
       "      <td>11</td>\n",
       "      <td>0</td>\n",
       "    </tr>\n",
       "    <tr>\n",
       "      <th>2239</th>\n",
       "      <td>9405</td>\n",
       "      <td>1954</td>\n",
       "      <td>PhD</td>\n",
       "      <td>Married</td>\n",
       "      <td>52869.0</td>\n",
       "      <td>1</td>\n",
       "      <td>1</td>\n",
       "      <td>2012-10-15</td>\n",
       "      <td>40</td>\n",
       "      <td>84</td>\n",
       "      <td>...</td>\n",
       "      <td>7</td>\n",
       "      <td>0</td>\n",
       "      <td>0</td>\n",
       "      <td>0</td>\n",
       "      <td>0</td>\n",
       "      <td>0</td>\n",
       "      <td>0</td>\n",
       "      <td>3</td>\n",
       "      <td>11</td>\n",
       "      <td>1</td>\n",
       "    </tr>\n",
       "  </tbody>\n",
       "</table>\n",
       "<p>2240 rows × 29 columns</p>\n",
       "</div>"
      ],
      "text/plain": [
       "         ID  Year_Birth   Education Marital_Status   Income  Kidhome  \\\n",
       "0      5524        1957  Graduation         Single  58138.0        0   \n",
       "1      2174        1954  Graduation         Single  46344.0        1   \n",
       "2      4141        1965  Graduation       Together  71613.0        0   \n",
       "3      6182        1984  Graduation       Together  26646.0        1   \n",
       "4      5324        1981         PhD        Married  58293.0        1   \n",
       "...     ...         ...         ...            ...      ...      ...   \n",
       "2235  10870        1967  Graduation        Married  61223.0        0   \n",
       "2236   4001        1946         PhD       Together  64014.0        2   \n",
       "2237   7270        1981  Graduation       Divorced  56981.0        0   \n",
       "2238   8235        1956      Master       Together  69245.0        0   \n",
       "2239   9405        1954         PhD        Married  52869.0        1   \n",
       "\n",
       "      Teenhome Dt_Customer  Recency  MntWines  ...  NumWebVisitsMonth  \\\n",
       "0            0  2012-09-04       58       635  ...                  7   \n",
       "1            1  2014-03-08       38        11  ...                  5   \n",
       "2            0  2013-08-21       26       426  ...                  4   \n",
       "3            0  2014-02-10       26        11  ...                  6   \n",
       "4            0  2014-01-19       94       173  ...                  5   \n",
       "...        ...         ...      ...       ...  ...                ...   \n",
       "2235         1  2013-06-13       46       709  ...                  5   \n",
       "2236         1  2014-06-10       56       406  ...                  7   \n",
       "2237         0  2014-01-25       91       908  ...                  6   \n",
       "2238         1  2014-01-24        8       428  ...                  3   \n",
       "2239         1  2012-10-15       40        84  ...                  7   \n",
       "\n",
       "      AcceptedCmp3  AcceptedCmp4  AcceptedCmp5  AcceptedCmp1  AcceptedCmp2  \\\n",
       "0                0             0             0             0             0   \n",
       "1                0             0             0             0             0   \n",
       "2                0             0             0             0             0   \n",
       "3                0             0             0             0             0   \n",
       "4                0             0             0             0             0   \n",
       "...            ...           ...           ...           ...           ...   \n",
       "2235             0             0             0             0             0   \n",
       "2236             0             0             0             1             0   \n",
       "2237             0             1             0             0             0   \n",
       "2238             0             0             0             0             0   \n",
       "2239             0             0             0             0             0   \n",
       "\n",
       "      Complain  Z_CostContact  Z_Revenue  Response  \n",
       "0            0              3         11         1  \n",
       "1            0              3         11         0  \n",
       "2            0              3         11         0  \n",
       "3            0              3         11         0  \n",
       "4            0              3         11         0  \n",
       "...        ...            ...        ...       ...  \n",
       "2235         0              3         11         0  \n",
       "2236         0              3         11         0  \n",
       "2237         0              3         11         0  \n",
       "2238         0              3         11         0  \n",
       "2239         0              3         11         1  \n",
       "\n",
       "[2240 rows x 29 columns]"
      ]
     },
     "execution_count": 149,
     "metadata": {},
     "output_type": "execute_result"
    }
   ],
   "source": [
    "df"
   ]
  },
  {
   "cell_type": "markdown",
   "id": "79b4426b",
   "metadata": {},
   "source": [
    "## Métodos para conocer composición del DataFrame"
   ]
  },
  {
   "cell_type": "code",
   "execution_count": 406,
   "id": "905f984f",
   "metadata": {},
   "outputs": [
    {
     "name": "stdout",
     "output_type": "stream",
     "text": [
      "ID\n",
      "Year_Birth\n",
      "Education\n",
      "Marital_Status\n",
      "Income\n",
      "Kidhome\n",
      "Teenhome\n",
      "Dt_Customer\n",
      "Recency\n",
      "MntWines\n",
      "MntFruits\n",
      "MntMeatProducts\n",
      "MntFishProducts\n",
      "MntSweetProducts\n",
      "MntGoldProds\n",
      "NumDealsPurchases\n",
      "NumWebPurchases\n",
      "NumCatalogPurchases\n",
      "NumStorePurchases\n",
      "NumWebVisitsMonth\n",
      "AcceptedCmp3\n",
      "AcceptedCmp4\n",
      "AcceptedCmp5\n",
      "AcceptedCmp1\n",
      "AcceptedCmp2\n",
      "Complain\n",
      "Z_CostContact\n",
      "Z_Revenue\n",
      "Response\n"
     ]
    }
   ],
   "source": [
    "#Ver las columnas\n",
    "for columns in df:\n",
    "    print(columns)"
   ]
  },
  {
   "cell_type": "code",
   "execution_count": null,
   "id": "d494455d",
   "metadata": {},
   "outputs": [],
   "source": [
    "#Vemos los tipos de datos de cada una de las columnas\n",
    "df.dtypes"
   ]
  },
  {
   "cell_type": "code",
   "execution_count": null,
   "id": "26da2337",
   "metadata": {},
   "outputs": [],
   "source": [
    "df.info()"
   ]
  },
  {
   "cell_type": "code",
   "execution_count": 7,
   "id": "aa830c79",
   "metadata": {},
   "outputs": [
    {
     "name": "stdout",
     "output_type": "stream",
     "text": [
      "La cantidad de filas y columnas de p_data es: (2240, 29)\n"
     ]
    }
   ],
   "source": [
    "#Ver la cantidad de filas y columnas\n",
    "\n",
    "print(\"La cantidad de filas y columnas de p_data es:\", df.shape)"
   ]
  },
  {
   "cell_type": "code",
   "execution_count": null,
   "id": "223c9561",
   "metadata": {},
   "outputs": [],
   "source": [
    "df.describe()"
   ]
  },
  {
   "cell_type": "code",
   "execution_count": null,
   "id": "f9d86bb6",
   "metadata": {},
   "outputs": [],
   "source": [
    "df.describe().T"
   ]
  },
  {
   "cell_type": "markdown",
   "id": "62c17a7b",
   "metadata": {},
   "source": [
    "## Pruebas, Validaciones y EDA"
   ]
  },
  {
   "cell_type": "code",
   "execution_count": null,
   "id": "f9c3e569",
   "metadata": {},
   "outputs": [],
   "source": [
    "#Prueba y validación de valores NaN en df\n",
    "\n",
    "print(\"Dataframe el Dataframe: \\n\")\n",
    "print(df)\n",
    "\n",
    "df_p_null = df.isnull()\n",
    "print(\"Dataframe para corroborar: \\n\")\n",
    "print(df_p_null)"
   ]
  },
  {
   "cell_type": "code",
   "execution_count": 11,
   "id": "c7a6f757",
   "metadata": {},
   "outputs": [
    {
     "name": "stdout",
     "output_type": "stream",
     "text": [
      "NaN presentes es df:True\n",
      "Cantidad total de valores NaN:24\n"
     ]
    }
   ],
   "source": [
    "#Vuevlo a hacer otro tipo de validación para valores NaN en df\n",
    "\n",
    "check_for_any_nan= df.isna().any().any()\n",
    "total_nan_values = df.isna().sum().sum()\n",
    "\n",
    "print(\"NaN presentes es df:\"+str(check_for_any_nan))\n",
    "print (\"Cantidad total de valores NaN:\"+str(total_nan_values))"
   ]
  },
  {
   "cell_type": "code",
   "execution_count": 12,
   "id": "a46bf28a",
   "metadata": {},
   "outputs": [
    {
     "name": "stdout",
     "output_type": "stream",
     "text": [
      "Los valores únicos de la siguientes columna son: [1 0]\n"
     ]
    }
   ],
   "source": [
    "#Conocer la cantidad de valores unicos que existen para cada columna.\n",
    "#A continuación hago una función para evaluar cada columna que se necesite saber su información, sin tener que realizar todos los prints por separado.\n",
    "\n",
    "def unique_values(x):\n",
    "    \n",
    "    return x.unique()\n",
    "    \n",
    "values = unique_values(df[\"Response\"])\n",
    "\n",
    "print(\"Los valores únicos de la siguientes columna son:\", values)"
   ]
  },
  {
   "cell_type": "code",
   "execution_count": 13,
   "id": "8b58b53d",
   "metadata": {},
   "outputs": [
    {
     "data": {
      "text/plain": [
       "(array([    0,     1,     9, ..., 11187, 11188, 11191], dtype=int64),\n",
       " array([1, 1, 1, ..., 1, 1, 1], dtype=int64))"
      ]
     },
     "execution_count": 13,
     "metadata": {},
     "output_type": "execute_result"
    }
   ],
   "source": [
    "#Otro doble chequeo para conocer si los ID se repiten.\n",
    "\n",
    "f = df.ID.unique()\n",
    "\n",
    "#Utilizo otro método con Numpy. El return_counts obtiene el número de ocurrencias de cada valor\n",
    "\n",
    "np.unique(df[\"ID\"], return_counts=True)"
   ]
  },
  {
   "cell_type": "markdown",
   "id": "48650648",
   "metadata": {},
   "source": [
    "## Análisis Multivariado de los datos"
   ]
  },
  {
   "cell_type": "markdown",
   "id": "1c5d6b97",
   "metadata": {},
   "source": [
    "## 1) Compra de productos: Fish, Meat, Fruit, Sweet, Wines, Gold"
   ]
  },
  {
   "cell_type": "code",
   "execution_count": 2,
   "id": "c8ac7cb4",
   "metadata": {},
   "outputs": [],
   "source": [
    "#Correlación entre las distintas variables, elegidas teniendo en cuenta el contenido de las columnas"
   ]
  },
  {
   "cell_type": "code",
   "execution_count": null,
   "id": "c1a6d980",
   "metadata": {},
   "outputs": [],
   "source": [
    "matrix1 = df[['MntFishProducts', 'MntMeatProducts', 'MntFruits', 'MntSweetProducts', 'MntWines', 'MntGoldProds']]\n",
    "mx_sum = matrix1.sum()\n",
    "mx_sum"
   ]
  },
  {
   "cell_type": "markdown",
   "id": "9787e2b4",
   "metadata": {},
   "source": [
    "### Bar Chart"
   ]
  },
  {
   "cell_type": "code",
   "execution_count": null,
   "id": "275b362d",
   "metadata": {},
   "outputs": [],
   "source": [
    "matrix1.sum().plot(kind=\"bar\", figsize=(12, 8), \n",
    "                   rot=60, fontsize= 15, cmap=\"coolwarm\")\n",
    "plt.xlabel(\"Food Variables\", fontsize=20)\n",
    "plt.ylabel(\"Amount bought\", fontsize=20)\n",
    "plt.title(\"Food Purchases\", fontsize = 20)"
   ]
  },
  {
   "cell_type": "markdown",
   "id": "67d853c6",
   "metadata": {},
   "source": [
    "### Matriz de correlación de variables"
   ]
  },
  {
   "cell_type": "code",
   "execution_count": null,
   "id": "95d8d025",
   "metadata": {},
   "outputs": [],
   "source": [
    "mxcorr = matrix1.corr()\n",
    "mxcorr.style.background_gradient(axis=0)  \n",
    "#mxcorr.style.format(na_rep='MISS', precision=3) Éste método fija los decimales que se quieran, pero no lo pude juntar con el color"
   ]
  },
  {
   "cell_type": "markdown",
   "id": "9a07e611",
   "metadata": {},
   "source": [
    "### Pairplot"
   ]
  },
  {
   "cell_type": "code",
   "execution_count": null,
   "id": "d0043252",
   "metadata": {},
   "outputs": [],
   "source": [
    "colors = [\"#FF0B04\"]\n",
    "sns.set_palette(sns.color_palette(colors))\n",
    "sns.pairplot(mxcorr)\n",
    "plt.show()"
   ]
  },
  {
   "cell_type": "markdown",
   "id": "0a2055c5",
   "metadata": {},
   "source": [
    "### Pie Chart"
   ]
  },
  {
   "cell_type": "code",
   "execution_count": null,
   "id": "8de9a9da",
   "metadata": {},
   "outputs": [],
   "source": [
    "mx_avg = matrix1.mean()\n",
    "plt.title(\"Market Food Preference\", fontsize = 20)\n",
    "mx_avg.plot.pie(y='Avg', figsize = (10,10), fontsize= 15, cmap = 'coolwarm', \n",
    "                explode = (0, 0, 0, 0 ,0.05, 0), autopct = '%1.1f%%');\n",
    "#el semicolon elimina el msj predeterminado"
   ]
  },
  {
   "cell_type": "markdown",
   "id": "cedfc64e",
   "metadata": {},
   "source": [
    "#### Dato Importante: la variable mx_avg reúne el promedio de cada una de las columnas, no el promedio total. El Pie Chart junto con el método autopct me dan los porcentajes luego."
   ]
  },
  {
   "cell_type": "markdown",
   "id": "81ae9186",
   "metadata": {},
   "source": [
    "### Income Vs Market Food Preference: Bar Chart"
   ]
  },
  {
   "cell_type": "code",
   "execution_count": 298,
   "id": "4c9f3cd1",
   "metadata": {},
   "outputs": [
    {
     "name": "stdout",
     "output_type": "stream",
     "text": [
      "El salario promedio es: $ 52247\n"
     ]
    }
   ],
   "source": [
    "#Busco cual es el salario promedio (sin tener en cuenta outliers, por lo que podría usar otra métrica también)\n",
    "income_avg = df[\"Income\"].mean()\n",
    "print(\"El salario promedio es: $\", round(income_avg))"
   ]
  },
  {
   "cell_type": "code",
   "execution_count": 192,
   "id": "393f2692",
   "metadata": {},
   "outputs": [],
   "source": [
    "#Busco por separado el promedio de cada una de las columnas. A esto lo tengo que cambiar por una función.\n",
    "income_fish = df[\"MntFishProducts\"].mean()\n",
    "income_meat = df[\"MntMeatProducts\"].mean()\n",
    "income_fruits = df[\"MntFruits\"].mean()\n",
    "income_sweet = df[\"MntSweetProducts\"].mean()\n",
    "income_wine= df[\"MntWines\"].mean()\n",
    "income_gold = df[\"MntGoldProds\"].mean()"
   ]
  },
  {
   "cell_type": "code",
   "execution_count": null,
   "id": "6f32101b",
   "metadata": {},
   "outputs": [],
   "source": [
    "#Acá tengo el avg total de todas las columnas\n",
    "total_avg_sum = mx_avg.sum()\n",
    "total_avg_sum"
   ]
  },
  {
   "cell_type": "code",
   "execution_count": 205,
   "id": "af0442af",
   "metadata": {},
   "outputs": [],
   "source": [
    "#Función para calcular cada uno de los porcentajes, para saber cuanto del sueldo en pesos se gasta en cada producto\n",
    "def perc(x):\n",
    "    \n",
    "    return x * 100 / total_avg_sum\n",
    "    \n",
    "fish = perc(income_fish)\n",
    "meat = perc(income_meat)\n",
    "fruits = perc(income_fruits)\n",
    "sweet = perc(income_sweet) \n",
    "wine = perc(income_wine) \n",
    "gold = perc(income_gold)"
   ]
  },
  {
   "cell_type": "code",
   "execution_count": 249,
   "id": "e1738834",
   "metadata": {},
   "outputs": [],
   "source": [
    "#Utilizo una list comprehension para ver cuanto es en pesos lo que se gasta anualmente (teniendo en cuenta que solo se gaste en los productos y mercados analizados)\n",
    "\n",
    "lista_super_anual = [fish, meat, fruits, sweet, wine, gold]\n",
    "\n",
    "gasto_total = [income_avg * x / 100 for x in lista]"
   ]
  },
  {
   "cell_type": "code",
   "execution_count": 251,
   "id": "4a4b5564",
   "metadata": {},
   "outputs": [],
   "source": [
    "lista_mercado = ['pescado', 'carne', 'fruta', 'dulces', 'vino', 'oro']"
   ]
  },
  {
   "cell_type": "code",
   "execution_count": null,
   "id": "94577534",
   "metadata": {},
   "outputs": [],
   "source": [
    "#Finalmente acá hago un gráfico donde se puede ver cuanto se gasta en dinero anualmente por cada producto que se compra\n",
    "fig = plt.figure(figsize = (10, 10))\n",
    "plt.bar(lista_mercado, gasto_total, color = 'mediumslateblue')\n",
    "plt.xlabel(\"Lista de Compras Anual\", fontsize=18)\n",
    "plt.ylabel(\"Cantidad Gastada\", fontsize=18)\n",
    "plt.title(\"División de Gastos Anuales\", fontsize=20)\n",
    "plt.xticks(fontsize=15)\n",
    "plt.yticks(fontsize=15)\n",
    "plt.show()"
   ]
  },
  {
   "cell_type": "markdown",
   "id": "7194f923",
   "metadata": {},
   "source": [
    "## 2) Income: Kids Home, Teens Home, Salary Types"
   ]
  },
  {
   "cell_type": "markdown",
   "id": "d379c51a",
   "metadata": {},
   "source": [
    "### Bar Chart: Ingresos Vs Status Marital Vs Niños"
   ]
  },
  {
   "cell_type": "code",
   "execution_count": null,
   "id": "6821e993",
   "metadata": {},
   "outputs": [],
   "source": [
    "#En este gráfico comparo tres variables, y hay bastante para analizar.\n",
    "sns.set_style('whitegrid')\n",
    "sns.catplot(x=\"Marital_Status\", y=\"Income\", data=df, kind=\"bar\", col=\"Kidhome\", palette = 'Paired')"
   ]
  },
  {
   "cell_type": "markdown",
   "id": "359e0cff",
   "metadata": {},
   "source": [
    "#### En este gráfico, como puse, hay varias cosas para mencionar. Primero, tenemos varios outliers en los sueldos, sobre todo en los que creen que el matrimonio es absurdo y que, además, no tienen hijos. \n",
    "#### Otra cosa, es que cuanto más hijos se tienen, menor parece ser los ingresos. Se podría decir que es una variable directamente proporcional.\n",
    "#### Por último, se puede apreciar como en el primer gráfico, aparecen con salario los Absurd y los YOLO que, justamente no tienen hijos. En los dos restantes, no figuran con ingresos."
   ]
  },
  {
   "cell_type": "markdown",
   "id": "587cb29b",
   "metadata": {},
   "source": [
    "### Bar Chart: Ingresos Vs Status Marital Vs Adolescentes"
   ]
  },
  {
   "cell_type": "code",
   "execution_count": null,
   "id": "e5dba8e4",
   "metadata": {},
   "outputs": [],
   "source": [
    "sns.set_style('whitegrid')\n",
    "sns.catplot(x=\"Marital_Status\", y=\"Income\", data=df, kind=\"bar\", col=\"Teenhome\", palette = 'Paired')"
   ]
  },
  {
   "cell_type": "markdown",
   "id": "62b4958e",
   "metadata": {},
   "source": [
    "#### Lo que me queda de este Dataset, es que diferencia la cantidad de hijos que tienen en una casa. Me queda sumar las dos columnas (Kidhome y Teenhome), para saber efectivamente cuantas personas hay."
   ]
  },
  {
   "cell_type": "markdown",
   "id": "309da036",
   "metadata": {},
   "source": [
    "### Salary Types"
   ]
  },
  {
   "cell_type": "code",
   "execution_count": null,
   "id": "3466caab",
   "metadata": {},
   "outputs": [],
   "source": [
    "#Vuelvo a utilizar este gráfico del desafío anterior, para ver como se distribuyen los sueldos\n",
    "distplot(df.Income)"
   ]
  },
  {
   "cell_type": "code",
   "execution_count": 396,
   "id": "000cf0a0",
   "metadata": {},
   "outputs": [],
   "source": [
    "#Para esta sección, lo que intento es hacer una discriminación de los salarios, para que queden agrupados de otra forma\n",
    "#Tienen carácter subjetivo, pero basicamente separo en tres dentro de la curva del gráfico, más un tipo de salario más, los que se encuentra por fuera"
   ]
  },
  {
   "cell_type": "code",
   "execution_count": null,
   "id": "e07efa83",
   "metadata": {},
   "outputs": [],
   "source": [
    "outlier_income = df.loc[df[\"Income\"] >= 100000]\n",
    "high_income = df[(df.Income >= 65000) & ( df.Income < 100000)]\n",
    "medium_income = df[(df.Income >= 40000) & ( df.Income < 65000)]\n",
    "low_income = df[(df.Income < 40000)]"
   ]
  },
  {
   "cell_type": "code",
   "execution_count": 393,
   "id": "2a5843f4",
   "metadata": {},
   "outputs": [
    {
     "data": {
      "text/plain": [
       "[732, 808, 663, 13]"
      ]
     },
     "execution_count": 393,
     "metadata": {},
     "output_type": "execute_result"
    }
   ],
   "source": [
    "salary_list = [low_income[\"Income\"].count(), medium_income[\"Income\"].count(), high_income[\"Income\"].count(), outlier_income[\"Income\"].count()] \n",
    "\n",
    "salary_type = [\"Low\", \"Medium\", \"High\", \"Outlier\"]\n",
    "\n",
    "salary_list"
   ]
  },
  {
   "cell_type": "code",
   "execution_count": null,
   "id": "d0232f1a",
   "metadata": {},
   "outputs": [],
   "source": [
    "#Gráfico para ver la división de salarios de las personas\n",
    "fig = plt.figure(figsize = (10, 10))\n",
    "plt.bar(salary_type, salary_list, color = 'mediumslateblue')\n",
    "plt.xlabel(\"Salarios\", fontsize=18)\n",
    "plt.ylabel(\"Cantidad de Personas\", fontsize=18)\n",
    "plt.title(\"División de Salarios Anuales\", fontsize=20)\n",
    "plt.xticks(fontsize=15)\n",
    "plt.yticks(fontsize=15)\n",
    "plt.show()"
   ]
  },
  {
   "cell_type": "markdown",
   "id": "64175169",
   "metadata": {},
   "source": [
    "## 3) Response Vs Education"
   ]
  },
  {
   "cell_type": "code",
   "execution_count": 449,
   "id": "e599f590",
   "metadata": {},
   "outputs": [],
   "source": [
    "ff = df.groupby([\"Education\", \"Response\"])\n",
    "\n",
    "tt = ff.size()\n",
    "\n",
    "vvv = tt.reset_index()"
   ]
  },
  {
   "cell_type": "code",
   "execution_count": null,
   "id": "c44fd95c",
   "metadata": {},
   "outputs": [],
   "source": [
    "tabla_pivote = pd.pivot_table(vvv, columns=\"Response\", index = \"Education\", values = 0)\n",
    "\n",
    "tabla_pivote"
   ]
  },
  {
   "cell_type": "code",
   "execution_count": null,
   "id": "1bf17900",
   "metadata": {},
   "outputs": [],
   "source": [
    "tabla_pivote.plot(kind=\"bar\", stacked = True, figsize=(12, 8), \n",
    "                   rot=60, fontsize= 15, cmap=\"coolwarm\")"
   ]
  },
  {
   "cell_type": "markdown",
   "id": "5bdb7b37",
   "metadata": {},
   "source": [
    "#### Este análisis es más bivariado, pero muestra, por tipo de educación, que cantidad de personas tuvieron una Response afirmativa; lo cual, en mayoría de casos, fue negativa."
   ]
  },
  {
   "cell_type": "code",
   "execution_count": null,
   "id": "14777a4f",
   "metadata": {},
   "outputs": [],
   "source": []
  }
 ],
 "metadata": {
  "kernelspec": {
   "display_name": "Python 3 (ipykernel)",
   "language": "python",
   "name": "python3"
  },
  "language_info": {
   "codemirror_mode": {
    "name": "ipython",
    "version": 3
   },
   "file_extension": ".py",
   "mimetype": "text/x-python",
   "name": "python",
   "nbconvert_exporter": "python",
   "pygments_lexer": "ipython3",
   "version": "3.9.7"
  }
 },
 "nbformat": 4,
 "nbformat_minor": 5
}
